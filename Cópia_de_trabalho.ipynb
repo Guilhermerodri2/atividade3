{
  "nbformat": 4,
  "nbformat_minor": 0,
  "metadata": {
    "colab": {
      "provenance": [],
      "include_colab_link": true
    },
    "kernelspec": {
      "name": "python3",
      "display_name": "Python 3"
    },
    "language_info": {
      "name": "python"
    }
  },
  "cells": [
    {
      "cell_type": "markdown",
      "metadata": {
        "id": "view-in-github",
        "colab_type": "text"
      },
      "source": [
        "<a href=\"https://colab.research.google.com/github/Guilhermerodri2/atividade3/blob/main/C%C3%B3pia_de_trabalho.ipynb\" target=\"_parent\"><img src=\"https://colab.research.google.com/assets/colab-badge.svg\" alt=\"Open In Colab\"/></a>"
      ]
    },
    {
      "cell_type": "markdown",
      "source": [
        "Computação para Engenharia / Trabalho N1\n",
        "\n",
        "Aluno: Ana Carolina Carreiro Magalhães\n",
        "\n",
        "Aluno: Rafael Lima Hufnagel Baltar Terra\n",
        "\n",
        "Aluno: Fernando Guilherme Rodrigues Alves da Silva"
      ],
      "metadata": {
        "id": "vK_mvPiAbrnr"
      }
    },
    {
      "cell_type": "markdown",
      "source": [
        "Questão 1\n",
        "\n",
        "Resposta: Letra D "
      ],
      "metadata": {
        "id": "vJp2KvI2h0Gy"
      }
    },
    {
      "cell_type": "code",
      "source": [
        "A = 10; B = 5; C = 4; D = 3\n",
        "\n",
        "e1 = (True and True) or (False and True)\n",
        "e2= 2 * D - C % B * C / D\n",
        "e3= (A > 9) and (B + C > 14)\n",
        "e4 = 1//D*D\n",
        "e5= 1.0/ D*D\n",
        "\n",
        "print(e1)\n",
        "print(e2)\n",
        "print(e3)\n",
        "print(e4)\n",
        "print(e5)"
      ],
      "metadata": {
        "colab": {
          "base_uri": "https://localhost:8080/"
        },
        "id": "UMxYUJKqcL0h",
        "outputId": "b708b68d-066c-493a-af33-75c6651bfca6"
      },
      "execution_count": null,
      "outputs": [
        {
          "output_type": "stream",
          "name": "stdout",
          "text": [
            "True\n",
            "0.666666666666667\n",
            "False\n",
            "0\n",
            "1.0\n"
          ]
        }
      ]
    },
    {
      "cell_type": "markdown",
      "source": [
        "Questão 2:"
      ],
      "metadata": {
        "id": "FBGVY4tvhqHR"
      }
    },
    {
      "cell_type": "code",
      "source": [
        "import numpy as np\n",
        "\n",
        "M= np.chararray((4, 4))\n",
        "M= [['O' , 'Q' , '*' , '1'], \n",
        "     ['E' , '*' , 'E', 'S'],\n",
        "     ['R',  'E', 'U', 'T'],\n",
        "     ['A', '*' , '*', 'S']]\n",
        "\n",
        "for i in range(4):\n",
        "  for j in range(i+1,4):\n",
        "    aux = M [i][j] \n",
        "    M[i][j] = M[j][i] \n",
        "    M[j][i] = aux\n",
        "\n",
        "aux = M[0] [0]\n",
        "M[0][0] = M[3][3]\n",
        "M[3][3] = aux \n",
        "aux = M[1][1]\n",
        "M[1][1] = M[2][2]\n",
        "M[2][2] = aux\n",
        "\n",
        "print(M)"
      ],
      "metadata": {
        "id": "ECnVCWqMW6jg",
        "outputId": "ce34e322-5aca-468a-999f-eaf8effb5934",
        "colab": {
          "base_uri": "https://localhost:8080/"
        }
      },
      "execution_count": null,
      "outputs": [
        {
          "output_type": "stream",
          "name": "stdout",
          "text": [
            "[['S', 'E', 'R', 'A'], ['Q', 'U', 'E', '*'], ['*', 'E', '*', '*'], ['1', 'S', 'T', 'O']]\n"
          ]
        }
      ]
    },
    {
      "cell_type": "markdown",
      "source": [
        "Questão 3:\n",
        "\n",
        "Resposta: Letra E"
      ],
      "metadata": {
        "id": "UdNvBk5rikUu"
      }
    },
    {
      "cell_type": "markdown",
      "source": [
        "Questão 4:\n",
        "\n",
        "Resposta: Letra A\n"
      ],
      "metadata": {
        "id": "M4hhxPowb6Wy"
      }
    },
    {
      "cell_type": "code",
      "source": [
        "# Inicialização das variáveis\n",
        "A = 1\n",
        "B = int(input(\"Digite o valor de B: \"))\n",
        "C = 1\n",
        "D = 0\n",
        "E = 0\n",
        "F = 1\n",
        "\n",
        "# Loop principal\n",
        "while A != B:\n",
        "    print(F)\n",
        "    D = F\n",
        "    F = F + E\n",
        "    E = D\n",
        "    D = F * F\n",
        "    C = C + D\n",
        "    A = A + 1\n"
      ],
      "metadata": {
        "id": "XdusvH0PcDdp",
        "outputId": "31092b3c-0e91-43ca-c99d-4a0314fa1a38",
        "colab": {
          "base_uri": "https://localhost:8080/"
        }
      },
      "execution_count": null,
      "outputs": [
        {
          "output_type": "stream",
          "name": "stdout",
          "text": [
            "Digite o valor de B: 7\n",
            "1\n",
            "1\n",
            "2\n",
            "3\n",
            "5\n",
            "8\n"
          ]
        }
      ]
    },
    {
      "cell_type": "markdown",
      "source": [
        "Questão 5\n",
        "\n",
        "Resposta: Letra A"
      ],
      "metadata": {
        "id": "J1JYMNa_dFDB"
      }
    },
    {
      "cell_type": "markdown",
      "source": [
        "Questão 6\n",
        "\n",
        "Rsposta: Letra C"
      ],
      "metadata": {
        "id": "BzeKEAhWdqJh"
      }
    },
    {
      "cell_type": "code",
      "source": [
        "print(\"Entre com o 1º tempo em hora, minuto e segundo no seguinte formato HH:MM:SS no formato 24h\")\n",
        "h1,m1,s1 = map(int, input().split(sep=':'))\n",
        "\n",
        "print(\"Entre com o 2º tempo em hora, minuto e segundo no seguinte formato HH:MM:SS no formato 24h\")\n",
        "h2,m2,s2 = map(int, input().split(sep=':'))\n",
        "\n",
        "t1 = h1 * 3600 + m1 * 60 + s1\n",
        "t2 = h2 * 3600 + m2 * 60 + s2\n",
        "\n",
        "if t1 > t2:\n",
        "    print(\"t1 é maior\")\n",
        "else:\n",
        "    if t2 > t1:\n",
        "        print(\"t2 é maior\")\n",
        "    else:\n",
        "        print(\"t1 = t2\")\n"
      ],
      "metadata": {
        "id": "Sh4rbEW_dyDM",
        "outputId": "571ec051-22f2-492a-c876-c5cda755558b",
        "colab": {
          "base_uri": "https://localhost:8080/"
        }
      },
      "execution_count": null,
      "outputs": [
        {
          "output_type": "stream",
          "name": "stdout",
          "text": [
            "Entre com o 1º tempo em hora, minuto e segundo no seguinte formato HH:MM:SS no formato 24h\n",
            "16:52:05\n",
            "Entre com o 2º tempo em hora, minuto e segundo no seguinte formato HH:MM:SS no formato 24h\n",
            "18:26:08\n",
            "t2 é maior\n"
          ]
        }
      ]
    },
    {
      "cell_type": "markdown",
      "source": [
        "Questão 7\n",
        "\n",
        "Resposta: Letra B"
      ],
      "metadata": {
        "id": "oNGMmkWXh_nm"
      }
    },
    {
      "cell_type": "markdown",
      "source": [
        "Questão 8\n",
        "\n",
        "Resposta: Letra D"
      ],
      "metadata": {
        "id": "vJF0NYueilrq"
      }
    },
    {
      "cell_type": "markdown",
      "source": [
        "Questão 9"
      ],
      "metadata": {
        "id": "_i0Q0-FXiv7q"
      }
    },
    {
      "cell_type": "code",
      "source": [
        "# Leitura dos valores\n",
        "v = []\n",
        "for i in range(1, 6):\n",
        "    valor = int(input(f\"Digite o valor {i}: \"))\n",
        "    v.append(valor)\n",
        "\n",
        "# Ordenação dos valores em ordem crescente\n",
        "for i in range(1, 5):\n",
        "    for j in range(0, 4):\n",
        "        if v[j] > v[j+1]:\n",
        "            temp = v[j]\n",
        "            v[j] = v[j+1]\n",
        "            v[j+1] = temp\n",
        "\n",
        "# Impressão dos valores em ordem crescente\n",
        "for i in range(1, 6):\n",
        "    print(v[i-1], end=\" \")\n"
      ],
      "metadata": {
        "id": "tfHgv9Ffi-pa",
        "outputId": "3c56dccd-0f01-421a-f9fc-b7bcd28c3c07",
        "colab": {
          "base_uri": "https://localhost:8080/"
        }
      },
      "execution_count": null,
      "outputs": [
        {
          "output_type": "stream",
          "name": "stdout",
          "text": [
            "Digite o valor 1: 9\n",
            "Digite o valor 2: 6\n",
            "Digite o valor 3: 2\n",
            "Digite o valor 4: 5\n",
            "Digite o valor 5: 1\n",
            "1 2 5 6 9 "
          ]
        }
      ]
    },
    {
      "cell_type": "markdown",
      "source": [
        "Questão 10\n",
        "\n",
        "Resposta: (A) Algoritmo \n",
        "          (B) Paradigma Imperativo\n",
        "          (C) Orientação e Objeto\n",
        "          (D) Paradigma em lógica\n",
        "          (E) Paradigma Funcional\n"
      ],
      "metadata": {
        "id": "-gVPu1DBj2kv"
      }
    }
  ]
}